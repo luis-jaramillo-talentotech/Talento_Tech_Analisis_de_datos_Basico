{
  "nbformat": 4,
  "nbformat_minor": 0,
  "metadata": {
    "colab": {
      "provenance": [],
      "authorship_tag": "ABX9TyN5bklxSrWeSstfySgs+AEz",
      "include_colab_link": true
    },
    "kernelspec": {
      "name": "python3",
      "display_name": "Python 3"
    },
    "language_info": {
      "name": "python"
    }
  },
  "cells": [
    {
      "cell_type": "markdown",
      "metadata": {
        "id": "view-in-github",
        "colab_type": "text"
      },
      "source": [
        "<a href=\"https://colab.research.google.com/github/luis-jaramillo-talentotech/Talento_Tech_Analisis_de_datos_Basico/blob/main/Laboratorio_7_Parte_1.ipynb\" target=\"_parent\"><img src=\"https://colab.research.google.com/assets/colab-badge.svg\" alt=\"Open In Colab\"/></a>"
      ]
    },
    {
      "cell_type": "markdown",
      "source": [
        "-\tCrear un DataFrame con los nombres, profesión y países de 8 personas, y luego imprimir el DataFrame."
      ],
      "metadata": {
        "id": "Xh867EYIM4RD"
      }
    },
    {
      "cell_type": "code",
      "execution_count": 1,
      "metadata": {
        "colab": {
          "base_uri": "https://localhost:8080/"
        },
        "id": "XNb72wNIM0dp",
        "outputId": "89262d1a-058f-428f-cf48-a27d66fd6313"
      },
      "outputs": [
        {
          "output_type": "stream",
          "name": "stdout",
          "text": [
            "    Nombre   Profesión       País\n",
            "0   Fabian   Ingeniero   Colombia\n",
            "1   Camila      Médica  Argentina\n",
            "2     Luis     Abogado     México\n",
            "3   Andrea  Arquitecta      Chile\n",
            "4   Carlos    Contador       Perú\n",
            "5  Daniela  Diseñadora    Uruguay\n",
            "6     Juan     Maestro   Paraguay\n",
            "7    Sofia   Psicóloga    Bolivia\n"
          ]
        }
      ],
      "source": [
        "import pandas as pd\n",
        "data = {\n",
        "    'Nombre': ['Fabian', 'Camila', 'Luis', 'Andrea', 'Carlos', 'Daniela', 'Juan', 'Sofia'],\n",
        "    'Profesión': ['Ingeniero', 'Médica', 'Abogado', 'Arquitecta', 'Contador', 'Diseñadora', 'Maestro', 'Psicóloga'],\n",
        "    'País': ['Colombia', 'Argentina', 'México', 'Chile', 'Perú', 'Uruguay', 'Paraguay', 'Bolivia']\n",
        "}\n",
        "df = pd.DataFrame(data)\n",
        "print(df)"
      ]
    }
  ]
}