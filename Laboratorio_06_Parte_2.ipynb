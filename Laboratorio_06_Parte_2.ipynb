{
  "nbformat": 4,
  "nbformat_minor": 0,
  "metadata": {
    "colab": {
      "provenance": [],
      "authorship_tag": "ABX9TyNuJ/ZYKICIri4J142PnxQ0",
      "include_colab_link": true
    },
    "kernelspec": {
      "name": "python3",
      "display_name": "Python 3"
    },
    "language_info": {
      "name": "python"
    }
  },
  "cells": [
    {
      "cell_type": "markdown",
      "metadata": {
        "id": "view-in-github",
        "colab_type": "text"
      },
      "source": [
        "<a href=\"https://colab.research.google.com/github/luis-jaramillo-talentotech/Talento_Tech_Analisis_de_datos_Basico/blob/main/Laboratorio_6_Parte_2.ipynb\" target=\"_parent\"><img src=\"https://colab.research.google.com/assets/colab-badge.svg\" alt=\"Open In Colab\"/></a>"
      ]
    },
    {
      "cell_type": "markdown",
      "source": [
        "**1. Algoritmo para Preparar un Té:** Este algoritmo describe los pasos para preparar un té y lo implementamos en Python.\n",
        "\n",
        "-\t**Pasos:**\n",
        "1.\tHervir agua.\n",
        "2.\tColocar una bolsita de té en una taza.\n",
        "3.\tVerter el agua caliente en la taza con la bolsita de té.\n",
        "4.\tDejar reposar durante 3-5 minutos.\n",
        "5.\tRetirar la bolsita de té y disfrutar.\n"
      ],
      "metadata": {
        "id": "-Pd8ls_XIXZS"
      }
    },
    {
      "cell_type": "code",
      "execution_count": null,
      "metadata": {
        "colab": {
          "base_uri": "https://localhost:8080/"
        },
        "id": "ss61dpCkdb76",
        "outputId": "f203c6c6-194f-4124-eedd-54c24fab234d"
      },
      "outputs": [
        {
          "output_type": "stream",
          "name": "stdout",
          "text": [
            "Herviendo agua...\n",
            "Colocando la bolsita de té en la taza...\n",
            "Vertiendo agua caliente en la taza...\n",
            "Dejando reposar durante 3-5 minutos...\n",
            "Retirando la bolsita de té... ¡Listo! Disfruta tu té.\n"
          ]
        }
      ],
      "source": [
        "# Este algoritmo describe los pasos para preparar un té y lo implementamos en Python.\n",
        "print(\"Herviendo agua...\")\n",
        "print(\"Colocando la bolsita de té en la taza...\")\n",
        "print(\"Vertiendo agua caliente en la taza...\")\n",
        "print(\"Dejando reposar durante 3-5 minutos...\")\n",
        "print(\"Retirando la bolsita de té... ¡Listo! Disfruta tu té.\")"
      ]
    },
    {
      "cell_type": "markdown",
      "source": [
        "**2. Cálculo del Promedio de Notas:** Utilizar variables y tipos de datos para almacenar las notas de un estudiante, y un operador aritmético para calcular el promedio.\n",
        "\n",
        "-\t**Pasos:**\n",
        "1.\tSolicitar al usuario las notas del estudiante.\n",
        "2.\tSumar todas las notas.\n",
        "3.\tDividir la suma entre el número total de notas.\n",
        "4.\tMostrar el resultado del promedio.\n"
      ],
      "metadata": {
        "id": "j3P1guIkIcjC"
      }
    },
    {
      "cell_type": "code",
      "source": [
        "# Utilizar variables y tipos de datos para almacenar las notas de un estudiante,\n",
        "# y un operador aritmético para calcular el promedio.\n",
        "nota1 = float(input(\"Ingresa la primera nota: \"))\n",
        "nota2 = float(input(\"Ingresa la segunda nota: \"))\n",
        "nota3 = float(input(\"Ingresa la tercera nota: \"))\n",
        "promedio = (nota1 + nota2 + nota3) / 3\n",
        "print(\"El promedio de las notas es:\", promedio)"
      ],
      "metadata": {
        "colab": {
          "base_uri": "https://localhost:8080/"
        },
        "id": "7z5ugYPkeoOj",
        "outputId": "a9338603-5a5f-463d-fb3c-464b67f3d5a8"
      },
      "execution_count": null,
      "outputs": [
        {
          "output_type": "stream",
          "name": "stdout",
          "text": [
            "Ingresa la primera nota: 5\n",
            "Ingresa la segunda nota: 4.5\n",
            "Ingresa la tercera nota: 4.1\n",
            "El promedio de las notas es: 4.533333333333333\n"
          ]
        }
      ]
    },
    {
      "cell_type": "markdown",
      "source": [
        "**3.\tVerificar si un número es Par o Impar:** Utiliza condicionales para verificar si un número es par o impar, y operadores para realizar el cálculo.\n",
        "\n",
        "-\t**Pasos:**\n",
        "1.\tSolicitar un número al usuario.\n",
        "2.\tUsar el operador módulo (%) para verificar si el número es divisible entre 2.\n",
        "3.\tMostrar si el número es par o impar.\n"
      ],
      "metadata": {
        "id": "k9CYrRfuI9aZ"
      }
    },
    {
      "cell_type": "code",
      "source": [
        "# Utiliza condicionales para verificar si un número es par o impar,\n",
        "# y operadores para realizar el cálculo.\n",
        "numero = int(input(\"Ingresa un número: \"))\n",
        "if numero % 2 == 0:\n",
        "    print(\"El número\", numero, \"es par.\")\n",
        "else:\n",
        "    print(\"El número\", numero, \"es impar.\")"
      ],
      "metadata": {
        "colab": {
          "base_uri": "https://localhost:8080/"
        },
        "id": "XTcoJjFJfdx1",
        "outputId": "d0e84476-ca14-4611-8d29-aaffbb5c901b"
      },
      "execution_count": null,
      "outputs": [
        {
          "output_type": "stream",
          "name": "stdout",
          "text": [
            "Ingresa un número: 2\n",
            "El número 2 es par.\n"
          ]
        }
      ]
    },
    {
      "cell_type": "markdown",
      "source": [
        "**4.\tBucle for para imprimir Números del 1 al 5:** Usar un bucle *for* para mostrar los números del 1 al 5 y combinar los operadores aritméticos para mostrar si son pares o impares.\n",
        "\n",
        "-\t**Pasos:**\n",
        "1.\tUsar un bucle for para iterar desde 1 hasta 5.\n",
        "2.\tVerificar si el número es par o impar dentro del bucle.\n",
        "3.\tImprimir el número y si es par o impar."
      ],
      "metadata": {
        "id": "QJGM9ttsJCk4"
      }
    },
    {
      "cell_type": "code",
      "source": [
        "# Usar un bucle for para mostrar los números del 1 al 5 y combinar los\n",
        "# operadores aritméticos para mostrar si son pares o impares.\n",
        "for numero in range(1, 6):\n",
        "    if numero % 2 == 0:\n",
        "        print(numero, \"es par.\")\n",
        "    else:\n",
        "        print(numero, \"es impar.\")"
      ],
      "metadata": {
        "colab": {
          "base_uri": "https://localhost:8080/"
        },
        "id": "lBvvBHsegBJ8",
        "outputId": "0422e0ee-f8c7-4c7a-ea04-21b2ae682bfa"
      },
      "execution_count": null,
      "outputs": [
        {
          "output_type": "stream",
          "name": "stdout",
          "text": [
            "1 es impar.\n",
            "2 es par.\n",
            "3 es impar.\n",
            "4 es par.\n",
            "5 es impar.\n"
          ]
        }
      ]
    },
    {
      "cell_type": "markdown",
      "source": [
        "**5. Convertir Grados Celsius a Fahrenheit:** Usar una función para convertir grados Celsius a Fahrenheit. La fórmula para la conversión es Fahrenheit = (Celsius * 9/5) + 32.\n",
        "\n",
        "-\t**Pasos:**\n",
        "1.\tSolicitar la temperatura en grados Celsius.\n",
        "2.\tAplicar la fórmula de conversión.\n",
        "3.\tMostrar la temperatura convertida a Fahrenheit.\n"
      ],
      "metadata": {
        "id": "5yH3gSXxJNQw"
      }
    },
    {
      "cell_type": "code",
      "source": [
        "# Usar una función para convertir grados Celsius a Fahrenheit.\n",
        "# La fórmula para la conversión es Fahrenheit = (Celsius * 9/5) + 32.\n",
        "celsius = float(input(\"Ingresa la temperatura en grados Celsius: \"))\n",
        "fahrenheit = (celsius * 9/5) + 32\n",
        "print(celsius, \"grados Celsius equivalen a\", fahrenheit, \"grados Fahrenheit.\")"
      ],
      "metadata": {
        "colab": {
          "base_uri": "https://localhost:8080/"
        },
        "id": "R76RdW4dEQAR",
        "outputId": "817aff9a-c938-4ce2-9bbe-6df6c770fa8d"
      },
      "execution_count": null,
      "outputs": [
        {
          "output_type": "stream",
          "name": "stdout",
          "text": [
            "Ingresa la temperatura en grados Celsius: 24.4\n",
            "24.4 grados Celsius equivalen a 75.92 grados Fahrenheit.\n"
          ]
        }
      ]
    },
    {
      "cell_type": "markdown",
      "source": [
        "**6. Contar la Cantidad de Vocales en una Cadena de Texto:** Utilizar un bucle *for* y una condicional para contar cuántas vocales hay en una cadena de texto ingresada por el usuario.\n",
        "\n",
        "-\t**Pasos:**\n",
        "1.\tSolicitar una cadena de texto al usuario.\n",
        "2.\tRecorrer cada carácter de la cadena.\n",
        "3.\tVerificar si el carácter es una vocal.\n",
        "4.\tContar las vocales y mostrar el resultado.\n"
      ],
      "metadata": {
        "id": "7CvvfE9xJQz4"
      }
    },
    {
      "cell_type": "code",
      "source": [
        "# Utilizar un bucle for y una condicional para contar cuántas vocales hay\n",
        "# en una cadena de texto ingresada por el usuario.\n",
        "texto = input(\"Ingresa una cadena de texto: \")\n",
        "vocales = \"aeiouAEIOU\"\n",
        "contador = 0\n",
        "for letra in texto:\n",
        "    if letra in vocales:\n",
        "        contador += 1\n",
        "print(\"La cantidad de vocales en el texto es:\", contador)"
      ],
      "metadata": {
        "colab": {
          "base_uri": "https://localhost:8080/"
        },
        "id": "TmiYZH-zE5xI",
        "outputId": "a173ac98-f8f2-4134-e9f3-9f00b3da7d68"
      },
      "execution_count": null,
      "outputs": [
        {
          "output_type": "stream",
          "name": "stdout",
          "text": [
            "Ingresa una cadena de texto: Esto es una cadena de prueba\n",
            "La cantidad de vocales en el texto es: 12\n"
          ]
        }
      ]
    },
    {
      "cell_type": "markdown",
      "source": [
        "**7. Calcular el factorial de un Número:** Usar un bucle *while* para calcular el factorial de un número ingresado por el usuario. El factorial de un número n (n!) es el producto de todos los números enteros positivos menores o iguales a n.\n",
        "\n",
        "-\t**Pasos:**\n",
        "1.\tSolicitar un número al usuario.\n",
        "2.\tUsar un bucle while para calcular el factorial.\n",
        "3.\tMostrar el resultado del factorial.\n"
      ],
      "metadata": {
        "id": "HC35NqkiJV8Y"
      }
    },
    {
      "cell_type": "code",
      "source": [
        "# Usar un bucle while para calcular el factorial de un número ingresado por el usuario.\n",
        "# El factorial de un número n (n!) es el producto de todos los números enteros positivos\n",
        "# menores o iguales a n.\n",
        "numero = int(input(\"Ingresa un número para calcular su factorial: \"))\n",
        "factorial = 1\n",
        "while numero > 0:\n",
        "    factorial *= numero\n",
        "    numero -= 1\n",
        "print(\"El factorial es:\", factorial)"
      ],
      "metadata": {
        "colab": {
          "base_uri": "https://localhost:8080/"
        },
        "id": "ZyswVWZjFmoe",
        "outputId": "115ae008-7c95-4f0a-d90d-625dbd28da91"
      },
      "execution_count": null,
      "outputs": [
        {
          "output_type": "stream",
          "name": "stdout",
          "text": [
            "Ingresa un número para calcular su factorial: 3\n",
            "El factorial es: 6\n"
          ]
        }
      ]
    }
  ]
}
