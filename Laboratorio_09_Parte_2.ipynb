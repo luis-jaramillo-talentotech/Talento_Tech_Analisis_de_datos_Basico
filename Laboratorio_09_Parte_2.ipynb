{
  "nbformat": 4,
  "nbformat_minor": 0,
  "metadata": {
    "colab": {
      "provenance": [],
      "authorship_tag": "ABX9TyOIdVhjq0UniIZYSDf3m6Dn",
      "include_colab_link": true
    },
    "kernelspec": {
      "name": "python3",
      "display_name": "Python 3"
    },
    "language_info": {
      "name": "python"
    }
  },
  "cells": [
    {
      "cell_type": "markdown",
      "metadata": {
        "id": "view-in-github",
        "colab_type": "text"
      },
      "source": [
        "<a href=\"https://colab.research.google.com/github/luis-jaramillo-talentotech/Talento_Tech_Analisis_de_datos_Basico/blob/main/Laboratorio_9_Parte_2.ipynb\" target=\"_parent\"><img src=\"https://colab.research.google.com/assets/colab-badge.svg\" alt=\"Open In Colab\"/></a>"
      ]
    },
    {
      "cell_type": "markdown",
      "source": [
        "1.\tSe requiere validar los datos: Precios de Productos, se tiene una lista de productos con los respectivos precios y se necesita validar que ningún precio sea negativo o nulo.\n",
        "\n",
        "-\tSe requiere:\n",
        "1.\tCrear un DataFrame con productos y precios.\n",
        "2.\tProducto: Producto A, Producto B,Producto C,Producto D.\n",
        "3.\tPrecio:150, -25, 100, None.  \n",
        "4.\tValidar que todos los precios sean mayores o iguales a cero y no nulos.\n",
        "5.\tMostrar los productos con precios inválidos.\n"
      ],
      "metadata": {
        "id": "o3NZz3S70BH1"
      }
    },
    {
      "cell_type": "code",
      "execution_count": 1,
      "metadata": {
        "colab": {
          "base_uri": "https://localhost:8080/"
        },
        "id": "UhjfXMtJ0Aab",
        "outputId": "5b98dce2-aba1-4e3d-c2d3-5dbcae14c8bb"
      },
      "outputs": [
        {
          "output_type": "stream",
          "name": "stdout",
          "text": [
            "     Producto  Precio Validación Precio\n",
            "0  Producto A   100.0            Válido\n",
            "1  Producto B   -50.0          Inválido\n",
            "2  Producto C     NaN          Inválido\n"
          ]
        }
      ],
      "source": [
        "import pandas as pd\n",
        "datos = {'Producto': ['Producto A', 'Producto B', 'Producto C'],\n",
        "'Precio': [100, -50, None]} # Precio negativo y valor faltante\n",
        "\n",
        "df = pd.DataFrame(datos)\n",
        "\n",
        "df['Validación Precio'] = df['Precio'].apply(lambda x: 'Válido' if pd.notnull(x) and x >= 0 else\n",
        "'Inválido')\n",
        "print(df)"
      ]
    },
    {
      "cell_type": "markdown",
      "source": [
        "2.\tSe requiere validar los datos duplicados: Clientes en una Base de Datos, se tiene una lista de clientes donde algunos registros tienen el mismo ID y necesitas identificarlos.\n",
        "\n",
        "-\tSe requiere:\n",
        "1.\tCrear un DataFrame con información de clientes.\n",
        "2.\tID Cliente:1, 2, 3, 2, 4.\n",
        "3.\tNombre: Ana, Luis, María, Luis, Carlos\n",
        "4.\tVerificar si hay duplicados en la columna de ID del cliente.\n",
        "5.\tMostrar los registros duplicados.\n"
      ],
      "metadata": {
        "id": "AVVjC_sQ0qLb"
      }
    },
    {
      "cell_type": "code",
      "source": [
        "import pandas as pd\n",
        "datos = {'ID_Cliente': [1,2,3,2,4],\n",
        "'Nombre': ['Ana', 'Luis', 'María', 'Luis', 'Carlos ']}\n",
        "\n",
        "df = pd.DataFrame(datos)\n",
        "duplicated_ids = df[df.duplicated()]\n",
        "\n",
        "print(duplicated_ids)"
      ],
      "metadata": {
        "colab": {
          "base_uri": "https://localhost:8080/"
        },
        "id": "sR6qFHkD0s6T",
        "outputId": "37e80b4a-643c-4ec2-cae7-4d4f369ed5ae"
      },
      "execution_count": 5,
      "outputs": [
        {
          "output_type": "stream",
          "name": "stdout",
          "text": [
            "   ID_Cliente Nombre\n",
            "3           2   Luis\n"
          ]
        }
      ]
    },
    {
      "cell_type": "markdown",
      "source": [
        "3.\tSe requiere tener seguridad en los datos: Encriptación y Desencriptación de Datos Sensibles, se tiene un número de tarjeta de crédito que deseas encriptar para protegerlo y luego desencriptarlo para el uso.\n",
        "\n",
        "- \tSe requiere:\n",
        "1.\tCrear una cadena con datos sensibles (un número de tarjeta 1234-5678-91011121).\n",
        "2.\tEncriptar esos datos utilizando una clave generada.\n",
        "3.\tDesencriptar los datos y mostrar ambos (encriptado y desencriptado)."
      ],
      "metadata": {
        "id": "3vU_kLni2H_g"
      }
    },
    {
      "cell_type": "code",
      "source": [
        "from cryptography.fernet import Fernet\n",
        "key = Fernet.generate_key()\n",
        "\n",
        "cipher_suite = Fernet(key)\n",
        "datos_sensibles = \"1234-5678-9101-1121\".encode()\n",
        "datos_encriptados = cipher_suite.encrypt(datos_sensibles)\n",
        "datos_desencriptados = cipher_suite.decrypt(datos_encriptados)\n",
        "print(\"Datos Encriptados:\", datos_encriptados)\n",
        "print(\"\\nDatos Desencriptados:\", datos_desencriptados.decode())\n"
      ],
      "metadata": {
        "colab": {
          "base_uri": "https://localhost:8080/"
        },
        "id": "C_vXsEem2MjY",
        "outputId": "0abf8c23-2baf-4e70-9e09-41b151cd5e35"
      },
      "execution_count": 20,
      "outputs": [
        {
          "output_type": "stream",
          "name": "stdout",
          "text": [
            "Datos Encriptados: b'gAAAAABnON_WdRURdwZ7r6ThFoAo4iRozZD0DGSEHTCWZ7nYRaOdBnqgkkfHVanPVfsUw2srt2OdJ3mnWgYwkrzbhqhn2bcppChjOnEnDALrTCzbpTtCSLE='\n",
            "\n",
            "Datos Desencriptados: 1234-5678-9101-1121\n"
          ]
        }
      ]
    }
  ]
}
