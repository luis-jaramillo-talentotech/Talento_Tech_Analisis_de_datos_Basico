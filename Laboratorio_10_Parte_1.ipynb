{
  "nbformat": 4,
  "nbformat_minor": 0,
  "metadata": {
    "colab": {
      "provenance": [],
      "authorship_tag": "ABX9TyMiI5uLafKjq5zZqTO9a1Oo",
      "include_colab_link": true
    },
    "kernelspec": {
      "name": "python3",
      "display_name": "Python 3"
    },
    "language_info": {
      "name": "python"
    }
  },
  "cells": [
    {
      "cell_type": "markdown",
      "metadata": {
        "id": "view-in-github",
        "colab_type": "text"
      },
      "source": [
        "<a href=\"https://colab.research.google.com/github/luis-jaramillo-talentotech/Talento_Tech_Analisis_de_datos_Basico/blob/main/Laboratorio_10_Parte_1.ipynb\" target=\"_parent\"><img src=\"https://colab.research.google.com/assets/colab-badge.svg\" alt=\"Open In Colab\"/></a>"
      ]
    },
    {
      "cell_type": "markdown",
      "source": [
        "1. Salud Digital y Análisis de Datos de Pacientes\n",
        "\n",
        "Se tiene un conjunto de datos sobre pacientes que incluye nombre, edad, fecha de ingreso y resultados de pruebas. Algunos registros están incompletos o contienen errores."
      ],
      "metadata": {
        "id": "tGUM_OE2MH8i"
      }
    },
    {
      "cell_type": "code",
      "execution_count": 6,
      "metadata": {
        "colab": {
          "base_uri": "https://localhost:8080/"
        },
        "id": "CE6ZRmVmMExo",
        "outputId": "93ec571f-819d-4eb0-b396-ae359c7e5ce6"
      },
      "outputs": [
        {
          "output_type": "stream",
          "name": "stdout",
          "text": [
            "Información completa:\n",
            "   Nombre  Edad FechaIngreso ResultadoPrueba\n",
            "0  Carlos  34.0   2021-01-15        Positivo\n",
            "1     Ana  29.0   2020/03/12        Negativo\n",
            "2    Luis   NaN   2022-07-01        Positivo\n",
            "3   Pedro  45.0   2021/12/01        Positivo\n",
            "4   María  25.0   2021-05-20        Negativo\n",
            "5    None  33.0   2020-03-12        Negativo\n",
            "\n",
            "Valores faltantes por columna:\n",
            "Nombre             1\n",
            "Edad               1\n",
            "FechaIngreso       0\n",
            "ResultadoPrueba    0\n",
            "dtype: int64\n",
            "\n",
            "Tabla sin nombres Incorrectos:\n",
            "   Nombre  Edad FechaIngreso ResultadoPrueba\n",
            "0  Carlos  34.0   2021-01-15        Positivo\n",
            "1     Ana  29.0   2020/03/12        Negativo\n",
            "2    Luis   NaN   2022-07-01        Positivo\n",
            "3   Pedro  45.0   2021/12/01        Positivo\n",
            "4   María  25.0   2021-05-20        Negativo\n",
            "\n",
            "Tabla con valores de edad inválidos reemplazados por la media:\n",
            "   Nombre   Edad FechaIngreso ResultadoPrueba\n",
            "0  Carlos  34.00   2021-01-15        Positivo\n",
            "1     Ana  29.00   2020/03/12        Negativo\n",
            "2    Luis  33.25   2022-07-01        Positivo\n",
            "3   Pedro  45.00   2021/12/01        Positivo\n",
            "4   María  25.00   2021-05-20        Negativo\n",
            "\n",
            "Datos después de estandarizar 'FechaIngreso':\n",
            "   Nombre   Edad FechaIngreso ResultadoPrueba\n",
            "0  Carlos  34.00   2021-01-15        Positivo\n",
            "1     Ana  29.00   2020-03-12        Negativo\n",
            "2    Luis  33.25   2022-07-01        Positivo\n",
            "3   Pedro  45.00   2021-12-01        Positivo\n",
            "4   María  25.00   2021-05-20        Negativo\n"
          ]
        }
      ],
      "source": [
        "import pandas as pd\n",
        "import numpy as np\n",
        "\n",
        "data = {\n",
        "    'Nombre': ['Carlos' , 'Ana' , 'Luis' , 'Pedro' , 'María' , None],\n",
        "    'Edad': [34, 29, None, 45, 25, 33],\n",
        "    'FechaIngreso': ['2021-01-15' , '2020/03/12' , '2022-07-01' , '2021/12/01' , '2021-05-20', '2020-03-12'],\n",
        "    'ResultadoPrueba': ['Positivo' , 'Negativo' , 'Positivo', 'Positivo' , 'Negativo' , 'Negativo']\n",
        "}\n",
        "\n",
        "df = pd.DataFrame(data)\n",
        "print(\"Información completa:\")\n",
        "print(df)\n",
        "\n",
        "# Identificar y contar los valores faltantes en cada columna.\n",
        "valores_faltantes = df.isnull().sum()\n",
        "print(\"\\nValores faltantes por columna:\")\n",
        "print(valores_faltantes)\n",
        "\n",
        "# Retirar registros sin Nombre\n",
        "nombre_incorrecto = df[df['Nombre'].isnull()]\n",
        "index = nombre_incorrecto.index\n",
        "df = df.drop(index)\n",
        "df = df.reset_index(drop=True)\n",
        "print(\"\\nTabla sin nombres Incorrectos:\")\n",
        "print(df)\n",
        "\n",
        "# Reemplazar 'NaN' en 'Edad' por la media de edades\n",
        "df['Edad'] = df['Edad'].fillna(df['Edad'].mean())\n",
        "print(\"\\nTabla con valores de edad inválidos reemplazados por la media:\")\n",
        "print(df)\n",
        "\n",
        "# Validar y estandarizar el formato de la columna 'Fecha Ingreso' a YYYY-MM-DD.\n",
        "df['FechaIngreso'] = df['FechaIngreso'].str.replace('/', '-')\n",
        "df['FechaIngreso'] = pd.to_datetime(df['FechaIngreso'], errors='coerce', format='%Y-%m-%d')\n",
        "print(\"\\nDatos después de estandarizar 'FechaIngreso':\")\n",
        "print(df)"
      ]
    },
    {
      "cell_type": "markdown",
      "source": [
        "2.\tComercio Electrónico y Recomendaciones Personalizadas\n",
        "\n",
        "Se tiene un conjunto de datos sobre transacciones de clientes que incluye el ID del cliente, el producto comprado, la cantidad, el precio y la fecha de la transacción. Algunos registros tienen errores en los precios y fechas.\n"
      ],
      "metadata": {
        "id": "fSBIMYgsObYE"
      }
    },
    {
      "cell_type": "code",
      "source": [
        "import pandas as pd\n",
        "import numpy as np\n",
        "\n",
        "data = {\n",
        "    'Cliente_ID': [1 , 2 , 3 , 4 , 5 ],\n",
        "    'Producto': ['A' , 'B' , 'C', 'D' , 'E'],\n",
        "    'Cantidad': [10 , 20 , None , 5 , 15 ],\n",
        "    'Precio': ['100' , '200$' , '300' , 'cuatrocientos' , '500' ],\n",
        "    'Fecha_transacción' : ['2023-01-15' , '2023/02/20' , '2023-03-25' , '2023/04/30' , '2023-05-10']\n",
        "}\n",
        "\n",
        "df = pd.DataFrame(data)\n",
        "print(\"Información completa:\")\n",
        "print(df)\n",
        "\n",
        "# Identificar y contar los valores faltantes en cada columna.\n",
        "valores_faltantes = df.isnull().sum()\n",
        "print(\"\\nValores faltantes por columna:\")\n",
        "print(valores_faltantes)\n",
        "\n",
        "# Reemplazar 'NaN' en 'Cantidad' por la media de Cantidades\n",
        "df['Cantidad'] = df['Cantidad'].fillna(df['Cantidad'].mean())\n",
        "print(\"\\nTabla con valores de Cantidad inválidos reemplazados por la media:\")\n",
        "print(df)\n",
        "\n",
        "# Quitar símbolos de columna 'Precio'\n",
        "df['Precio'] = df['Precio'].str.replace('[$]', '', regex=True)\n",
        "print('\\nTabla con símbolos de Precio removidos:')\n",
        "print(df)\n",
        "\n",
        "# Verificar el formato de la columna 'Precio' para asegurar que todos los valores sean numéricos.\n",
        "Precios_incorrectos = df[~df['Precio'].str.replace('[^0-9]', '', regex=True).fillna('').str.isdigit()]\n",
        "print('\\nPrecios incorrectos:')\n",
        "print(Precios_incorrectos)\n",
        "\n",
        "# Reemplazar el Precio_incorrecto por la media\n",
        "index = Precios_incorrectos.index\n",
        "df.loc[index, 'Precio'] = None\n",
        "df['Precio'] = df['Precio'].astype(np.float64) # Puede usarse también .astype(int)\n",
        "df['Precio'] = df['Precio'].fillna(df['Precio'].mean())\n",
        "print('\\nTabla con Precios numéricos:')\n",
        "print(df)\n",
        "\n",
        "# Validar y estandarizar el formato de la columna 'Fecha Ingreso' a YYYY-MM-DD.\n",
        "df['Fecha_transacción'] = df['Fecha_transacción'].str.replace('/', '-')\n",
        "df['Fecha_transacción'] = pd.to_datetime(df['Fecha_transacción'], errors='coerce', format='%Y-%m-%d')\n",
        "print(\"\\nDatos después de estandarizar 'Fecha_transacción':\")\n",
        "print(df)"
      ],
      "metadata": {
        "colab": {
          "base_uri": "https://localhost:8080/"
        },
        "id": "Dq4U0wmOObqk",
        "outputId": "33cb0829-b8ff-4fe2-84fc-1520dcc49ac1"
      },
      "execution_count": 23,
      "outputs": [
        {
          "output_type": "stream",
          "name": "stdout",
          "text": [
            "Información completa:\n",
            "   Cliente_ID Producto  Cantidad         Precio Fecha_transacción\n",
            "0           1        A      10.0            100        2023-01-15\n",
            "1           2        B      20.0           200$        2023/02/20\n",
            "2           3        C       NaN            300        2023-03-25\n",
            "3           4        D       5.0  cuatrocientos        2023/04/30\n",
            "4           5        E      15.0            500        2023-05-10\n",
            "\n",
            "Valores faltantes por columna:\n",
            "Cliente_ID           0\n",
            "Producto             0\n",
            "Cantidad             1\n",
            "Precio               0\n",
            "Fecha_transacción    0\n",
            "dtype: int64\n",
            "\n",
            "Tabla con valores de Cantidad inválidos reemplazados por la media:\n",
            "   Cliente_ID Producto  Cantidad         Precio Fecha_transacción\n",
            "0           1        A      10.0            100        2023-01-15\n",
            "1           2        B      20.0           200$        2023/02/20\n",
            "2           3        C      12.5            300        2023-03-25\n",
            "3           4        D       5.0  cuatrocientos        2023/04/30\n",
            "4           5        E      15.0            500        2023-05-10\n",
            "\n",
            "Tabla con símbolos de Precio removidos:\n",
            "   Cliente_ID Producto  Cantidad         Precio Fecha_transacción\n",
            "0           1        A      10.0            100        2023-01-15\n",
            "1           2        B      20.0            200        2023/02/20\n",
            "2           3        C      12.5            300        2023-03-25\n",
            "3           4        D       5.0  cuatrocientos        2023/04/30\n",
            "4           5        E      15.0            500        2023-05-10\n",
            "\n",
            "Precios incorrectos:\n",
            "   Cliente_ID Producto  Cantidad         Precio Fecha_transacción\n",
            "3           4        D       5.0  cuatrocientos        2023/04/30\n",
            "\n",
            "Tabla con Precios numéricos:\n",
            "   Cliente_ID Producto  Cantidad  Precio Fecha_transacción\n",
            "0           1        A      10.0   100.0        2023-01-15\n",
            "1           2        B      20.0   200.0        2023/02/20\n",
            "2           3        C      12.5   300.0        2023-03-25\n",
            "3           4        D       5.0   275.0        2023/04/30\n",
            "4           5        E      15.0   500.0        2023-05-10\n",
            "\n",
            "Datos después de estandarizar 'Fecha_transacción':\n",
            "   Cliente_ID Producto  Cantidad  Precio Fecha_transacción\n",
            "0           1        A      10.0   100.0        2023-01-15\n",
            "1           2        B      20.0   200.0        2023-02-20\n",
            "2           3        C      12.5   300.0        2023-03-25\n",
            "3           4        D       5.0   275.0        2023-04-30\n",
            "4           5        E      15.0   500.0        2023-05-10\n"
          ]
        }
      ]
    }
  ]
}