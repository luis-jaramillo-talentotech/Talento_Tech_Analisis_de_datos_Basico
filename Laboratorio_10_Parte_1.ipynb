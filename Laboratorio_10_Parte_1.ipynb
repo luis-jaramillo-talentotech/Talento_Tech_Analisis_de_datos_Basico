{
  "nbformat": 4,
  "nbformat_minor": 0,
  "metadata": {
    "colab": {
      "provenance": [],
      "authorship_tag": "ABX9TyMhA2IUwYTBvb414x6u/Hca",
      "include_colab_link": true
    },
    "kernelspec": {
      "name": "python3",
      "display_name": "Python 3"
    },
    "language_info": {
      "name": "python"
    }
  },
  "cells": [
    {
      "cell_type": "markdown",
      "metadata": {
        "id": "view-in-github",
        "colab_type": "text"
      },
      "source": [
        "<a href=\"https://colab.research.google.com/github/luis-jaramillo-talentotech/Talento_Tech_Analisis_de_datos_Basico/blob/main/Laboratorio_10_Parte_1.ipynb\" target=\"_parent\"><img src=\"https://colab.research.google.com/assets/colab-badge.svg\" alt=\"Open In Colab\"/></a>"
      ]
    },
    {
      "cell_type": "markdown",
      "source": [
        "Salud Digital y Análisis de Datos de Pacientes\n",
        "\n",
        "Se tiene un conjunto de datos sobre pacientes que incluye nombre, edad, fecha de ingreso y resultados de pruebas. Algunos registros están incompletos o contienen errores."
      ],
      "metadata": {
        "id": "tGUM_OE2MH8i"
      }
    },
    {
      "cell_type": "code",
      "execution_count": 6,
      "metadata": {
        "colab": {
          "base_uri": "https://localhost:8080/"
        },
        "id": "CE6ZRmVmMExo",
        "outputId": "93ec571f-819d-4eb0-b396-ae359c7e5ce6"
      },
      "outputs": [
        {
          "output_type": "stream",
          "name": "stdout",
          "text": [
            "Información completa:\n",
            "   Nombre  Edad FechaIngreso ResultadoPrueba\n",
            "0  Carlos  34.0   2021-01-15        Positivo\n",
            "1     Ana  29.0   2020/03/12        Negativo\n",
            "2    Luis   NaN   2022-07-01        Positivo\n",
            "3   Pedro  45.0   2021/12/01        Positivo\n",
            "4   María  25.0   2021-05-20        Negativo\n",
            "5    None  33.0   2020-03-12        Negativo\n",
            "\n",
            "Valores faltantes por columna:\n",
            "Nombre             1\n",
            "Edad               1\n",
            "FechaIngreso       0\n",
            "ResultadoPrueba    0\n",
            "dtype: int64\n",
            "\n",
            "Tabla sin nombres Incorrectos:\n",
            "   Nombre  Edad FechaIngreso ResultadoPrueba\n",
            "0  Carlos  34.0   2021-01-15        Positivo\n",
            "1     Ana  29.0   2020/03/12        Negativo\n",
            "2    Luis   NaN   2022-07-01        Positivo\n",
            "3   Pedro  45.0   2021/12/01        Positivo\n",
            "4   María  25.0   2021-05-20        Negativo\n",
            "\n",
            "Tabla con valores de edad inválidos reemplazados por la media:\n",
            "   Nombre   Edad FechaIngreso ResultadoPrueba\n",
            "0  Carlos  34.00   2021-01-15        Positivo\n",
            "1     Ana  29.00   2020/03/12        Negativo\n",
            "2    Luis  33.25   2022-07-01        Positivo\n",
            "3   Pedro  45.00   2021/12/01        Positivo\n",
            "4   María  25.00   2021-05-20        Negativo\n",
            "\n",
            "Datos después de estandarizar 'FechaIngreso':\n",
            "   Nombre   Edad FechaIngreso ResultadoPrueba\n",
            "0  Carlos  34.00   2021-01-15        Positivo\n",
            "1     Ana  29.00   2020-03-12        Negativo\n",
            "2    Luis  33.25   2022-07-01        Positivo\n",
            "3   Pedro  45.00   2021-12-01        Positivo\n",
            "4   María  25.00   2021-05-20        Negativo\n"
          ]
        }
      ],
      "source": [
        "import pandas as pd\n",
        "import numpy as np\n",
        "\n",
        "data = {\n",
        "    'Nombre': ['Carlos' , 'Ana' , 'Luis' , 'Pedro' , 'María' , None],\n",
        "    'Edad': [34, 29, None, 45, 25, 33],\n",
        "    'FechaIngreso': ['2021-01-15' , '2020/03/12' , '2022-07-01' , '2021/12/01' , '2021-05-20', '2020-03-12'],\n",
        "    'ResultadoPrueba': ['Positivo' , 'Negativo' , 'Positivo', 'Positivo' , 'Negativo' , 'Negativo']\n",
        "}\n",
        "\n",
        "df = pd.DataFrame(data)\n",
        "print(\"Información completa:\")\n",
        "print(df)\n",
        "\n",
        "# Identificar y contar los valores faltantes en cada columna.\n",
        "valores_faltantes = df.isnull().sum()\n",
        "print(\"\\nValores faltantes por columna:\")\n",
        "print(valores_faltantes)\n",
        "\n",
        "# Retirar registros sin Nombre\n",
        "nombre_incorrecto = df[df['Nombre'].isnull()]\n",
        "index = nombre_incorrecto.index\n",
        "df = df.drop(index)\n",
        "df = df.reset_index(drop=True)\n",
        "print(\"\\nTabla sin nombres Incorrectos:\")\n",
        "print(df)\n",
        "\n",
        "# Reemplazar 'NaN' en 'Edad' por la media de edades\n",
        "df['Edad'] = df['Edad'].fillna(df['Edad'].mean())\n",
        "print(\"\\nTabla con valores de edad inválidos reemplazados por la media:\")\n",
        "print(df)\n",
        "\n",
        "# Validar y estandarizar el formato de la columna 'Fecha Ingreso' a YYYY-MM-DD.\n",
        "df['FechaIngreso'] = df['FechaIngreso'].str.replace('/', '-')\n",
        "df['FechaIngreso'] = pd.to_datetime(df['FechaIngreso'], errors='coerce', format='%Y-%m-%d')\n",
        "print(\"\\nDatos después de estandarizar 'FechaIngreso':\")\n",
        "print(df)"
      ]
    }
  ]
}