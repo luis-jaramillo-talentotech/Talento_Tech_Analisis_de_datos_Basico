{
  "nbformat": 4,
  "nbformat_minor": 0,
  "metadata": {
    "colab": {
      "provenance": [],
      "authorship_tag": "ABX9TyOmPS5xisLs7+4Ny1ZT+e7N",
      "include_colab_link": true
    },
    "kernelspec": {
      "name": "python3",
      "display_name": "Python 3"
    },
    "language_info": {
      "name": "python"
    }
  },
  "cells": [
    {
      "cell_type": "markdown",
      "metadata": {
        "id": "view-in-github",
        "colab_type": "text"
      },
      "source": [
        "<a href=\"https://colab.research.google.com/github/luis-jaramillo-talentotech/Talento_Tech_Analisis_de_datos_Basico/blob/main/Laboratorio_7_Parte_2.ipynb\" target=\"_parent\"><img src=\"https://colab.research.google.com/assets/colab-badge.svg\" alt=\"Open In Colab\"/></a>"
      ]
    },
    {
      "cell_type": "markdown",
      "source": [
        "-\tCrear un array de números del 1 al 10 y mostrar la suma, la media, y el valor máximo."
      ],
      "metadata": {
        "id": "6fQ8I3NAUoTX"
      }
    },
    {
      "cell_type": "code",
      "execution_count": 14,
      "metadata": {
        "colab": {
          "base_uri": "https://localhost:8080/"
        },
        "id": "GiMKbxrMUlCd",
        "outputId": "17867077-73c6-480a-f1d5-b6fa203fe17f"
      },
      "outputs": [
        {
          "output_type": "stream",
          "name": "stdout",
          "text": [
            "El arreglo es: [ 1.  2.  3.  4.  5.  6.  7.  8.  9. 10.]\n",
            "La suma de los valores del arreglo es: 55.0\n",
            "La media de los valores del arreglo es: 5.5\n",
            "El máximo valor de los valores del arreglo es: 10.0\n"
          ]
        }
      ],
      "source": [
        "import numpy as np\n",
        "arr = np.linspace(1,10,10)\n",
        "print(\"El arreglo es:\",arr)\n",
        "print(\"La suma de los valores del arreglo es:\", arr.sum())\n",
        "print(\"La media de los valores del arreglo es:\", arr.mean())\n",
        "print(\"El máximo valor de los valores del arreglo es:\", arr.max())"
      ]
    },
    {
      "cell_type": "markdown",
      "source": [
        "-\tCrear un array de 3x4 lleno de ceros y luego cambiar su forma a 2x6"
      ],
      "metadata": {
        "id": "NIcygoxtWq77"
      }
    },
    {
      "cell_type": "code",
      "source": [
        "import numpy as np\n",
        "arr = np.zeros((3,4))\n",
        "print(\"Arreglo de 3x4:\",arr,sep=\"\\n\")\n",
        "arr = arr.reshape((2, 6))\n",
        "print(\"Arreglo de 2x6:\",arr,sep=\"\\n\")"
      ],
      "metadata": {
        "colab": {
          "base_uri": "https://localhost:8080/"
        },
        "id": "crlav0a5WsAL",
        "outputId": "d6491d29-3423-4d0a-fbd1-2df8b402cd19"
      },
      "execution_count": 16,
      "outputs": [
        {
          "output_type": "stream",
          "name": "stdout",
          "text": [
            "Arreglo de 3x4:\n",
            "[[0. 0. 0. 0.]\n",
            " [0. 0. 0. 0.]\n",
            " [0. 0. 0. 0.]]\n",
            "Arreglo de 2x6:\n",
            "[[0. 0. 0. 0. 0. 0.]\n",
            " [0. 0. 0. 0. 0. 0.]]\n"
          ]
        }
      ]
    }
  ]
}