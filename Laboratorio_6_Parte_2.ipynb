{
  "nbformat": 4,
  "nbformat_minor": 0,
  "metadata": {
    "colab": {
      "provenance": [],
      "authorship_tag": "ABX9TyMlselODOjll+gBEoSDHrJ4",
      "include_colab_link": true
    },
    "kernelspec": {
      "name": "python3",
      "display_name": "Python 3"
    },
    "language_info": {
      "name": "python"
    }
  },
  "cells": [
    {
      "cell_type": "markdown",
      "metadata": {
        "id": "view-in-github",
        "colab_type": "text"
      },
      "source": [
        "<a href=\"https://colab.research.google.com/github/luis-jaramillo-talentotech/Talento_Tech_Analisis_de_datos_Basico/blob/main/Laboratorio_6_Parte_2.ipynb\" target=\"_parent\"><img src=\"https://colab.research.google.com/assets/colab-badge.svg\" alt=\"Open In Colab\"/></a>"
      ]
    },
    {
      "cell_type": "code",
      "execution_count": 1,
      "metadata": {
        "colab": {
          "base_uri": "https://localhost:8080/"
        },
        "id": "ss61dpCkdb76",
        "outputId": "f203c6c6-194f-4124-eedd-54c24fab234d"
      },
      "outputs": [
        {
          "output_type": "stream",
          "name": "stdout",
          "text": [
            "Herviendo agua...\n",
            "Colocando la bolsita de té en la taza...\n",
            "Vertiendo agua caliente en la taza...\n",
            "Dejando reposar durante 3-5 minutos...\n",
            "Retirando la bolsita de té... ¡Listo! Disfruta tu té.\n"
          ]
        }
      ],
      "source": [
        "# Este algoritmo describe los pasos para preparar un té y lo implementamos en Python.\n",
        "print(\"Herviendo agua...\")\n",
        "print(\"Colocando la bolsita de té en la taza...\")\n",
        "print(\"Vertiendo agua caliente en la taza...\")\n",
        "print(\"Dejando reposar durante 3-5 minutos...\")\n",
        "print(\"Retirando la bolsita de té... ¡Listo! Disfruta tu té.\")"
      ]
    }
  ]
}