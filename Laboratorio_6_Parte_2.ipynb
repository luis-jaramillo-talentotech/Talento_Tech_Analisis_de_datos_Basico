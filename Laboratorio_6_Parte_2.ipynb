{
  "nbformat": 4,
  "nbformat_minor": 0,
  "metadata": {
    "colab": {
      "provenance": [],
      "authorship_tag": "ABX9TyPopf9jdPkoXP0yjPQMvM3w",
      "include_colab_link": true
    },
    "kernelspec": {
      "name": "python3",
      "display_name": "Python 3"
    },
    "language_info": {
      "name": "python"
    }
  },
  "cells": [
    {
      "cell_type": "markdown",
      "metadata": {
        "id": "view-in-github",
        "colab_type": "text"
      },
      "source": [
        "<a href=\"https://colab.research.google.com/github/luis-jaramillo-talentotech/Talento_Tech_Analisis_de_datos_Basico/blob/main/Laboratorio_6_Parte_2.ipynb\" target=\"_parent\"><img src=\"https://colab.research.google.com/assets/colab-badge.svg\" alt=\"Open In Colab\"/></a>"
      ]
    },
    {
      "cell_type": "code",
      "execution_count": 1,
      "metadata": {
        "colab": {
          "base_uri": "https://localhost:8080/"
        },
        "id": "ss61dpCkdb76",
        "outputId": "f203c6c6-194f-4124-eedd-54c24fab234d"
      },
      "outputs": [
        {
          "output_type": "stream",
          "name": "stdout",
          "text": [
            "Herviendo agua...\n",
            "Colocando la bolsita de té en la taza...\n",
            "Vertiendo agua caliente en la taza...\n",
            "Dejando reposar durante 3-5 minutos...\n",
            "Retirando la bolsita de té... ¡Listo! Disfruta tu té.\n"
          ]
        }
      ],
      "source": [
        "# Este algoritmo describe los pasos para preparar un té y lo implementamos en Python.\n",
        "print(\"Herviendo agua...\")\n",
        "print(\"Colocando la bolsita de té en la taza...\")\n",
        "print(\"Vertiendo agua caliente en la taza...\")\n",
        "print(\"Dejando reposar durante 3-5 minutos...\")\n",
        "print(\"Retirando la bolsita de té... ¡Listo! Disfruta tu té.\")"
      ]
    },
    {
      "cell_type": "code",
      "source": [
        "# Utilizar variables y tipos de datos para almacenar las notas de un estudiante, y un operador aritmético para calcular el promedio.\n",
        "nota1 = float(input(\"Ingresa la primera nota: \"))\n",
        "nota2 = float(input(\"Ingresa la segunda nota: \"))\n",
        "nota3 = float(input(\"Ingresa la tercera nota: \"))\n",
        "promedio = (nota1 + nota2 + nota3) / 3\n",
        "print(\"El promedio de las notas es: \", promedio)"
      ],
      "metadata": {
        "colab": {
          "base_uri": "https://localhost:8080/"
        },
        "id": "7z5ugYPkeoOj",
        "outputId": "3d77bbb6-c9a8-4cb8-9e39-89d947c63e01"
      },
      "execution_count": 3,
      "outputs": [
        {
          "output_type": "stream",
          "name": "stdout",
          "text": [
            "Ingresa la primera nota: 5\n",
            "Ingresa la segunda nota: 4.5\n",
            "Ingresa la tercera nota: 4.1\n",
            "El promedio de las notas es:  4.533333333333333\n"
          ]
        }
      ]
    }
  ]
}