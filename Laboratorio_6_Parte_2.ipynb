{
  "nbformat": 4,
  "nbformat_minor": 0,
  "metadata": {
    "colab": {
      "provenance": [],
      "authorship_tag": "ABX9TyOPV6L4J63VC1qb/T623hHg",
      "include_colab_link": true
    },
    "kernelspec": {
      "name": "python3",
      "display_name": "Python 3"
    },
    "language_info": {
      "name": "python"
    }
  },
  "cells": [
    {
      "cell_type": "markdown",
      "metadata": {
        "id": "view-in-github",
        "colab_type": "text"
      },
      "source": [
        "<a href=\"https://colab.research.google.com/github/luis-jaramillo-talentotech/Talento_Tech_Analisis_de_datos_Basico/blob/main/Laboratorio_6_Parte_2.ipynb\" target=\"_parent\"><img src=\"https://colab.research.google.com/assets/colab-badge.svg\" alt=\"Open In Colab\"/></a>"
      ]
    },
    {
      "cell_type": "code",
      "execution_count": 1,
      "metadata": {
        "colab": {
          "base_uri": "https://localhost:8080/"
        },
        "id": "ss61dpCkdb76",
        "outputId": "f203c6c6-194f-4124-eedd-54c24fab234d"
      },
      "outputs": [
        {
          "output_type": "stream",
          "name": "stdout",
          "text": [
            "Herviendo agua...\n",
            "Colocando la bolsita de té en la taza...\n",
            "Vertiendo agua caliente en la taza...\n",
            "Dejando reposar durante 3-5 minutos...\n",
            "Retirando la bolsita de té... ¡Listo! Disfruta tu té.\n"
          ]
        }
      ],
      "source": [
        "# Este algoritmo describe los pasos para preparar un té y lo implementamos en Python.\n",
        "print(\"Herviendo agua...\")\n",
        "print(\"Colocando la bolsita de té en la taza...\")\n",
        "print(\"Vertiendo agua caliente en la taza...\")\n",
        "print(\"Dejando reposar durante 3-5 minutos...\")\n",
        "print(\"Retirando la bolsita de té... ¡Listo! Disfruta tu té.\")"
      ]
    },
    {
      "cell_type": "code",
      "source": [
        "# Utilizar variables y tipos de datos para almacenar las notas de un estudiante, y un operador aritmético para calcular el promedio.\n",
        "nota1 = float(input(\"Ingresa la primera nota: \"))\n",
        "nota2 = float(input(\"Ingresa la segunda nota: \"))\n",
        "nota3 = float(input(\"Ingresa la tercera nota: \"))\n",
        "promedio = (nota1 + nota2 + nota3) / 3\n",
        "print(\"El promedio de las notas es:\", promedio)"
      ],
      "metadata": {
        "colab": {
          "base_uri": "https://localhost:8080/"
        },
        "id": "7z5ugYPkeoOj",
        "outputId": "a9338603-5a5f-463d-fb3c-464b67f3d5a8"
      },
      "execution_count": 11,
      "outputs": [
        {
          "output_type": "stream",
          "name": "stdout",
          "text": [
            "Ingresa la primera nota: 5\n",
            "Ingresa la segunda nota: 4.5\n",
            "Ingresa la tercera nota: 4.1\n",
            "El promedio de las notas es: 4.533333333333333\n"
          ]
        }
      ]
    },
    {
      "cell_type": "code",
      "source": [
        "# Utiliza condicionales para verificar si un número es par o impar, y operadores para realizar el cálculo.\n",
        "numero = int(input(\"Ingresa un número: \"))\n",
        "if numero % 2 == 0:\n",
        "    print(\"El número\", numero, \"es par.\")\n",
        "else:\n",
        "    print(\"El número\", numero, \"es impar.\")"
      ],
      "metadata": {
        "colab": {
          "base_uri": "https://localhost:8080/"
        },
        "id": "XTcoJjFJfdx1",
        "outputId": "d0e84476-ca14-4611-8d29-aaffbb5c901b"
      },
      "execution_count": 10,
      "outputs": [
        {
          "output_type": "stream",
          "name": "stdout",
          "text": [
            "Ingresa un número: 2\n",
            "El número 2 es par.\n"
          ]
        }
      ]
    },
    {
      "cell_type": "code",
      "source": [
        "# Usar un bucle for para mostrar los números del 1 al 5 y combinar los operadores aritméticos para mostrar si son pares o impares.\n",
        "for numero in range(1, 6):\n",
        "    if numero % 2 == 0:\n",
        "        print(numero, \"es par.\")\n",
        "    else:\n",
        "        print(numero, \"es impar.\")"
      ],
      "metadata": {
        "colab": {
          "base_uri": "https://localhost:8080/"
        },
        "id": "lBvvBHsegBJ8",
        "outputId": "0422e0ee-f8c7-4c7a-ea04-21b2ae682bfa"
      },
      "execution_count": 9,
      "outputs": [
        {
          "output_type": "stream",
          "name": "stdout",
          "text": [
            "1 es impar.\n",
            "2 es par.\n",
            "3 es impar.\n",
            "4 es par.\n",
            "5 es impar.\n"
          ]
        }
      ]
    }
  ]
}